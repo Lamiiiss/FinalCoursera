{
 "cells": [
  {
   "cell_type": "markdown",
   "id": "1099fc52-9c0a-479f-a7de-50adfe8cb7a5",
   "metadata": {},
   "source": [
    "# Data Science Tools and Ecosystem "
   ]
  },
  {
   "cell_type": "markdown",
   "id": "31fc4094-e9e8-4121-8adc-186580762b2e",
   "metadata": {},
   "source": [
    "In this notebook, Data Science Tools and Ecosystem are summarized"
   ]
  },
  {
   "cell_type": "markdown",
   "id": "45cee934-ef42-44a7-ac83-4beff2872b6a",
   "metadata": {},
   "source": [
    "**Objectives:**\n",
    "\n",
    "- List popular languages for Data Science\n",
    "- List commonly used libraries in Data Science\n",
    "- Create tables using markdown in Jupyter Notebook\n",
    "- Demonstrate arithmetic expressions in Python\n",
    "- Share notebooks through GitHub\n"
   ]
  },
  {
   "cell_type": "markdown",
   "id": "2497b7fe-2600-4007-ad68-c66ffd402fa7",
   "metadata": {},
   "source": [
    "Some of the popular languages that Scientist use are \n",
    "1. Python\n",
    "2. R programming\n",
    "3. SQL\n",
    "4. Java and Java-ML\n"
   ]
  },
  {
   "cell_type": "markdown",
   "id": "c1c3801e-caba-4e6f-8459-b12825906f57",
   "metadata": {},
   "source": [
    "Some of the commonly used libraries used by Data Scientists include:\n",
    "1. Pandas in Python\n",
    "2. TensorFlow\n",
    "3. Pytorch\n",
    "4. Matplotlib\n",
    "5. ggplot\n",
    "7. Plotly"
   ]
  },
  {
   "cell_type": "markdown",
   "id": "ebe61bf2-b0f9-4cfe-a058-17252552a18f",
   "metadata": {},
   "source": [
    "| Data Science Tools |\n",
    "|-------|\n",
    "| Jupiter Notebook |\n",
    "| Google Colab|\n",
    "| Rstudio |\n"
   ]
  },
  {
   "cell_type": "markdown",
   "id": "fa2d855a-c2ea-4117-bf7c-a7fdcdc64b61",
   "metadata": {},
   "source": [
    "### Below are a few examples of evaluating arithmetic expressions in Python"
   ]
  },
  {
   "cell_type": "code",
   "execution_count": 1,
   "id": "3edc78e2-1591-4938-9443-7e14f96bb6fa",
   "metadata": {},
   "outputs": [
    {
     "data": {
      "text/plain": [
       "17"
      ]
     },
     "execution_count": 1,
     "metadata": {},
     "output_type": "execute_result"
    }
   ],
   "source": [
    "# This a simple arithmetic expression to mutiply then add integers\n",
    "\n",
    "(3*4)+5"
   ]
  },
  {
   "cell_type": "code",
   "execution_count": 2,
   "id": "465d1fc2-2b17-49c4-96d1-314c561482d0",
   "metadata": {},
   "outputs": [
    {
     "name": "stdout",
     "output_type": "stream",
     "text": [
      "200min to Hours is equall 3.3333333333333335\n"
     ]
    }
   ],
   "source": [
    "#This will convert 200 minutes to hours by diving by 60\n",
    "\n",
    "\n",
    "x=200\n",
    "y=60\n",
    "print(\"200min to Hours is equall\", x/y)"
   ]
  },
  {
   "cell_type": "markdown",
   "id": "3ea5073c-0de1-4298-a903-72277e84fc3d",
   "metadata": {},
   "source": [
    "## Author\n",
    "Lamia Jabrane"
   ]
  },
  {
   "cell_type": "code",
   "execution_count": null,
   "id": "f74a65bb-5e81-49fd-8c83-ea5d8645bc83",
   "metadata": {},
   "outputs": [],
   "source": []
  },
  {
   "cell_type": "code",
   "execution_count": null,
   "id": "67ea08e1-5842-479c-b9ae-2f88a35e7776",
   "metadata": {},
   "outputs": [],
   "source": [
    "++"
   ]
  }
 ],
 "metadata": {
  "kernelspec": {
   "display_name": "Python 3 (ipykernel)",
   "language": "python",
   "name": "python3"
  },
  "language_info": {
   "codemirror_mode": {
    "name": "ipython",
    "version": 3
   },
   "file_extension": ".py",
   "mimetype": "text/x-python",
   "name": "python",
   "nbconvert_exporter": "python",
   "pygments_lexer": "ipython3",
   "version": "3.13.5"
  }
 },
 "nbformat": 4,
 "nbformat_minor": 5
}
